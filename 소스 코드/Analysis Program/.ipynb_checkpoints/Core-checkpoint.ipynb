{
 "cells": [
  {
   "cell_type": "code",
   "execution_count": 3,
   "metadata": {},
   "outputs": [],
   "source": [
    "#import openpyxl\n",
    " \n",
    "# 엑셀파일 열기\n",
    "#wb = openpyxl.load_workbook('DB.xlsx')\n",
    "\n",
    "#ws = wb.active\n",
    "#### ws = wb.get_sheet_by_name(\"Sheet1\")\n",
    " \n",
    "# 국영수 점수를 읽기\n",
    "#for r in ws.rows:\n",
    "#    year = r[0].value   # 행 인덱스\n",
    "#    mont = r[1].value\n",
    "#    day = r[2].value\n",
    "#    hua = r[3].value\n",
    "#    su = r[4].value\n",
    "#    mok = r[5].value\n",
    "#    kim = r[6].value\n",
    "#    to = r[7].value\n",
    "\n",
    "    #print(year, mont, day, hua, su, mok, kim, to)\n",
    "    \n",
    "#wb.save(\"score2.xlsx\")\n",
    "##wb.close()\n"
   ]
  },
  {
   "cell_type": "code",
   "execution_count": 97,
   "metadata": {},
   "outputs": [],
   "source": [
    "import pandas as pd\n",
    "import numpy as np\n",
    "import matplotlib.pyplot as plt\n",
    "\n",
    "%matplotlib inline\n"
   ]
  },
  {
   "cell_type": "code",
   "execution_count": 109,
   "metadata": {},
   "outputs": [
    {
     "name": "stdout",
     "output_type": "stream",
     "text": [
      "0         1925114\n",
      "1          194038\n",
      "2         1936126\n",
      "3         1977116\n",
      "4          194397\n",
      "5         1978217\n",
      "6         1953115\n",
      "7         1948419\n",
      "8          193693\n",
      "9         1958926\n",
      "10       19431025\n",
      "11        1950928\n",
      "12         194323\n",
      "13        1944325\n",
      "14       19381130\n",
      "15         195235\n",
      "16        1957920\n",
      "17        1938913\n",
      "18       19521025\n",
      "19         194911\n",
      "20         194281\n",
      "21        1944106\n",
      "22        1942710\n",
      "23         194543\n",
      "24         196833\n",
      "25        1937325\n",
      "26        1938322\n",
      "27        1949928\n",
      "28       19431024\n",
      "29       19401120\n",
      "           ...   \n",
      "80965     1950624\n",
      "80966      194533\n",
      "80967    19391020\n",
      "80968    19531027\n",
      "80969     1943121\n",
      "80970     1939101\n",
      "80971      194259\n",
      "80972      194343\n",
      "80973    19401226\n",
      "80974    19421020\n",
      "80975     1956101\n",
      "80976    19551010\n",
      "80977     1955910\n",
      "80978     1942720\n",
      "80979     1971113\n",
      "80980     1943217\n",
      "80981      194124\n",
      "80982    19731224\n",
      "80983     1945621\n",
      "80984     1950525\n",
      "80985     1955120\n",
      "80986      194565\n",
      "80987     1933618\n",
      "80988      193798\n",
      "80989     1940119\n",
      "80990      193635\n",
      "80991     1925529\n",
      "80992     1944412\n",
      "80993    19411025\n",
      "80994    19111111\n",
      "Name: 생년월일, Length: 80995, dtype: int64\n"
     ]
    }
   ],
   "source": [
    "manseDB = pd.read_excel('test.xlsx') ## 엑셀 데이터\n",
    "\n",
    "manseDB\n",
    "\n",
    "patientDB = pd.read_excel('patientDB.xlsx') ## 환자 정보 엑셀 읽기\n",
    "\n",
    "yearinfo = patientDB['생년월일']# 환자 생년월일\n",
    "\n",
    "\n"
   ]
  },
  {
   "cell_type": "code",
   "execution_count": 105,
   "metadata": {},
   "outputs": [
    {
     "data": {
      "text/plain": [
       "0      191611\n",
       "1      191612\n",
       "2      191613\n",
       "3      191614\n",
       "4      191615\n",
       "5      191616\n",
       "6      191617\n",
       "7      191618\n",
       "8      191619\n",
       "9     1916110\n",
       "10    1916111\n",
       "11    1916112\n",
       "12    1916113\n",
       "13    1916114\n",
       "14    1916115\n",
       "Name: 생년월일, dtype: int64"
      ]
     },
     "execution_count": 105,
     "metadata": {},
     "output_type": "execute_result"
    }
   ],
   "source": [
    "year = manseDB['생년월일'] # 만세력 생년월일\n",
    "\n",
    "hua = manseDB['화']\n",
    "su = manseDB['수']\n",
    "mok = manseDB['목']\n",
    "kim = manseDB['금']\n",
    "to = manseDB['토']\n",
    "\n"
   ]
  },
  {
   "cell_type": "code",
   "execution_count": 108,
   "metadata": {},
   "outputs": [
    {
     "name": "stdout",
     "output_type": "stream",
     "text": [
      "[1, 2, 3, 10, 22, 33]\n"
     ]
    }
   ],
   "source": [
    "a = [1,2,3]\n",
    "b = [10,22,33]\n",
    "\n",
    "result = []\n",
    "result.extend(a)\n",
    "result.extend(b)\n",
    "\n",
    "print(result)\n",
    "\n"
   ]
  },
  {
   "cell_type": "code",
   "execution_count": null,
   "metadata": {},
   "outputs": [],
   "source": []
  }
 ],
 "metadata": {
  "kernelspec": {
   "display_name": "Python 3",
   "language": "python",
   "name": "python3"
  },
  "language_info": {
   "codemirror_mode": {
    "name": "ipython",
    "version": 3
   },
   "file_extension": ".py",
   "mimetype": "text/x-python",
   "name": "python",
   "nbconvert_exporter": "python",
   "pygments_lexer": "ipython3",
   "version": "3.7.0"
  }
 },
 "nbformat": 4,
 "nbformat_minor": 2
}
